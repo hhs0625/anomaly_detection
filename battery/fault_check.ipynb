{
 "cells": [
  {
   "cell_type": "code",
   "execution_count": 2,
   "metadata": {},
   "outputs": [
    {
     "name": "stdout",
     "output_type": "stream",
     "text": [
      "BATT_PACK_1_FAULT: 99\n",
      "BATT_PACK_2_FAULT: 481\n",
      "BATT_PACK_3_FAULT: 1\n",
      "BATT_PACK_4_FAULT: 0\n",
      "BATT_PACK_5_FAULT: 1\n",
      "BATT_PACK_6_FAULT: 1085\n",
      "BATT_PACK_7_FAULT: 1084\n"
     ]
    }
   ],
   "source": [
    "from influxdb import InfluxDBClient\n",
    "\n",
    "# Create an InfluxDBClient instance\n",
    "client = InfluxDBClient(host='localhost', port=8086)\n",
    "\n",
    "# Switch to the appropriate database\n",
    "client.switch_database('ISS')\n",
    "\n",
    "# Initialize a dictionary to store the counts\n",
    "fault_counts = {}\n",
    "\n",
    "# Iterate through each BATT_PACK_X_FAULT field\n",
    "for pack_num in range(1, 8):\n",
    "    field_name = f'BATT_PACK_{pack_num}_FAULT'\n",
    "    \n",
    "    # Define the query for the current field\n",
    "    query = f'SELECT COUNT(\"{field_name}\") FROM \"autogen\".\"EP_Battery.Thing_HMD8310\" WHERE \"{field_name}\" = true'\n",
    "    \n",
    "    # Execute the query\n",
    "    result = client.query(query)\n",
    "    \n",
    "    # Retrieve the count from the result, handling the case of no results\n",
    "    points = list(result.get_points())\n",
    "    if points:\n",
    "        count = points[0]['count']\n",
    "    else:\n",
    "        count = 0\n",
    "    \n",
    "    # Store the count in the dictionary\n",
    "    fault_counts[field_name] = count\n",
    "\n",
    "# Print the counts\n",
    "for field, count in fault_counts.items():\n",
    "    print(f\"{field}: {count}\")\n"
   ]
  },
  {
   "cell_type": "code",
   "execution_count": 3,
   "metadata": {},
   "outputs": [
    {
     "name": "stdout",
     "output_type": "stream",
     "text": [
      "BATT_PACK_1_FAULT: First: 2022-11-10T01:49:00Z, Last: 2022-12-07T06:09:00Z\n",
      "BATT_PACK_2_FAULT: First: 2022-10-19T06:29:00Z, Last: 2022-11-28T02:54:00Z\n",
      "BATT_PACK_3_FAULT: First: 2022-10-19T06:29:00Z, Last: 2022-10-19T06:29:00Z\n",
      "BATT_PACK_4_FAULT: First: None, Last: None\n",
      "BATT_PACK_5_FAULT: First: 2022-10-19T06:29:00Z, Last: 2022-10-19T06:29:00Z\n",
      "BATT_PACK_6_FAULT: First: 2022-10-19T06:29:00Z, Last: 2022-10-20T00:35:00Z\n",
      "BATT_PACK_7_FAULT: First: 2022-10-19T06:30:00Z, Last: 2022-10-20T00:35:00Z\n"
     ]
    }
   ],
   "source": [
    "\n",
    "# Initialize a dictionary to store the timestamps\n",
    "fault_timestamps = {}\n",
    "\n",
    "# Iterate through each BATT_PACK_X_FAULT field\n",
    "for pack_num in range(1, 8):\n",
    "    field_name = f'BATT_PACK_{pack_num}_FAULT'\n",
    "    \n",
    "    # Define the query to get the timestamps for the current field\n",
    "    query = f'SELECT \"time\", \"{field_name}\" FROM \"autogen\".\"EP_Battery.Thing_HMD8310\" WHERE \"{field_name}\" = true ORDER BY time ASC LIMIT 1'\n",
    "    \n",
    "    # Execute the query for the first occurrence\n",
    "    result = client.query(query)\n",
    "    points = list(result.get_points())\n",
    "    first_timestamp = points[0]['time'] if points else None\n",
    "    \n",
    "    # Define the query to get the timestamps for the last occurrence\n",
    "    query = f'SELECT \"time\", \"{field_name}\"  FROM \"autogen\".\"EP_Battery.Thing_HMD8310\" WHERE \"{field_name}\" = true ORDER BY time DESC LIMIT 1'\n",
    "    \n",
    "    # Execute the query for the last occurrence\n",
    "    result = client.query(query)\n",
    "    points = list(result.get_points())\n",
    "    last_timestamp = points[0]['time'] if points else None\n",
    "    \n",
    "    # Store the timestamps in the dictionary\n",
    "    fault_timestamps[field_name] = {'first': first_timestamp, 'last': last_timestamp}\n",
    "\n",
    "# Print the timestamps\n",
    "for field, timestamps in fault_timestamps.items():\n",
    "    print(f\"{field}: First: {timestamps['first']}, Last: {timestamps['last']}\")\n"
   ]
  },
  {
   "cell_type": "code",
   "execution_count": null,
   "metadata": {},
   "outputs": [],
   "source": []
  }
 ],
 "metadata": {
  "kernelspec": {
   "display_name": "Python 3.9.4 64-bit",
   "language": "python",
   "name": "python3"
  },
  "language_info": {
   "codemirror_mode": {
    "name": "ipython",
    "version": 3
   },
   "file_extension": ".py",
   "mimetype": "text/x-python",
   "name": "python",
   "nbconvert_exporter": "python",
   "pygments_lexer": "ipython3",
   "version": "3.9.4"
  },
  "orig_nbformat": 4,
  "vscode": {
   "interpreter": {
    "hash": "6fff98fc3b3d81bd655c2cc48858186e4d9e2db7b515bf1c3221888f12a62f87"
   }
  }
 },
 "nbformat": 4,
 "nbformat_minor": 2
}
