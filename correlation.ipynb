{
 "cells": [
  {
   "cell_type": "code",
   "execution_count": 4,
   "metadata": {},
   "outputs": [],
   "source": [
    "import pandas as pd\n",
    "import seaborn as sns\n",
    "from influxdb import InfluxDBClient\n",
    "import matplotlib.pyplot as plt\n",
    "\n",
    "# Connect to InfluxDB\n",
    "client = InfluxDBClient(host='localhost', port=8086)\n",
    "client.switch_database('ISS')\n",
    "\n",
    "# Define the measurement and time range\n",
    "measurement = 'DE1Thing_HMD8310'\n",
    "start_time = '2023-01-01T00:00:00Z'\n",
    "end_time = '2023-02-01T00:00:00Z'\n",
    "\n",
    "# Construct the query\n",
    "query = f'SELECT * FROM \"{measurement}\" WHERE time >= \\'{start_time}\\' AND time < \\'{end_time}\\''\n",
    "\n",
    "# Execute the query and convert the results to a DataFrame\n",
    "results = client.query(query)\n",
    "df = pd.DataFrame.from_records(results.get_points())\n",
    "\n",
    "# Convert RPM column to numeric\n",
    "df['RPM'] = pd.to_numeric(df['RPM'])\n",
    "\n"
   ]
  },
  {
   "cell_type": "code",
   "execution_count": 6,
   "metadata": {},
   "outputs": [
    {
     "name": "stderr",
     "output_type": "stream",
     "text": [
      "C:\\Users\\hhs06\\AppData\\Local\\Temp\\ipykernel_24888\\2153270030.py:2: FutureWarning: The default value of numeric_only in DataFrame.corr is deprecated. In a future version, it will default to False. Select only valid columns or specify the value of numeric_only to silence this warning.\n",
      "  corr_matrix = df.corr()['RPM'].sort_values(ascending=False)\n"
     ]
    },
    {
     "name": "stdout",
     "output_type": "stream",
     "text": [
      "RPM                       1.000000\n",
      "GE1_LO_PRESS_ENG_IN_1     0.995976\n",
      "GE1_LO_PRESS_FILTER_IN    0.995820\n",
      "CFWInletPress             0.987375\n",
      "Cyl7_Pmax                 0.985493\n",
      "Cyl4_Pmax                 0.985312\n",
      "Cyl1_Pmax                 0.985238\n",
      "Cyl6_Pmax                 0.985016\n",
      "Cy4ExhGasOutletTemp       0.984757\n",
      "Cyl9_Pmax                 0.984670\n",
      "Cyl3_Pmax                 0.984368\n",
      "Cy6ExhGasOutletTemp       0.984258\n",
      "Cyl2_Pmax                 0.984123\n",
      "Cyl8_Pmax                 0.983715\n",
      "Cyl5_Pmax                 0.983454\n",
      "Cy3ExhGasOutletTemp       0.983321\n",
      "Cy7ExhGasOutletTemp       0.979970\n",
      "Cy5ExhGasOutletTemp       0.979086\n",
      "Cy8ExhGasOutletTemp       0.978380\n",
      "Cy9ExhGasOutletTemp       0.978124\n",
      "Cy2ExhGasOutletTemp       0.975802\n",
      "Cy1ExhGasOutletTemp       0.975276\n",
      "Load                      0.869376\n",
      "Power                     0.869015\n",
      "GE1_CRANKCASE_PRESS       0.862915\n",
      "NOX_Rate                  0.849526\n",
      "CO2_percent               0.841524\n",
      "CFWOutletTempB            0.806109\n",
      "CFWOutletTempA            0.803904\n",
      "LOInletTemp               0.772927\n",
      "FGPressure                0.744629\n",
      "ScavPress                 0.670834\n",
      "CFWInletTemp              0.633911\n",
      "SOX_ppm                   0.601806\n",
      "NO1_CH4_TOTAL            -0.799531\n",
      "NO1_CH4_RATE             -0.799534\n",
      "NO1_CO_TOTAL             -0.799617\n",
      "NO1_CO_RATE              -0.799847\n",
      "NO1_CH4                  -0.800810\n",
      "NO1_CO                   -0.800827\n",
      "Name: RPM, dtype: float64\n"
     ]
    }
   ],
   "source": [
    "# Compute the correlation matrix between RPM and all other columns\n",
    "corr_matrix = df.corr()['RPM'].sort_values(ascending=False)\n",
    "pd.set_option('display.max_rows', None)\n",
    "pd.set_option('display.max_columns', None)\n",
    "# Display only correlations that exceed 0.5 in absolute value\n",
    "print(corr_matrix[abs(corr_matrix) > 0.5])"
   ]
  },
  {
   "cell_type": "code",
   "execution_count": 2,
   "metadata": {},
   "outputs": [],
   "source": []
  }
 ],
 "metadata": {
  "kernelspec": {
   "display_name": "Python 3",
   "language": "python",
   "name": "python3"
  },
  "language_info": {
   "codemirror_mode": {
    "name": "ipython",
    "version": 3
   },
   "file_extension": ".py",
   "mimetype": "text/x-python",
   "name": "python",
   "nbconvert_exporter": "python",
   "pygments_lexer": "ipython3",
   "version": "3.10.10"
  },
  "orig_nbformat": 4
 },
 "nbformat": 4,
 "nbformat_minor": 2
}
